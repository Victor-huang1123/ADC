{
  "nbformat": 4,
  "nbformat_minor": 0,
  "metadata": {
    "colab": {
      "provenance": [],
      "toc_visible": true,
      "authorship_tag": "ABX9TyMuyGMZlTyOFhcMQ0U6ZcNi",
      "include_colab_link": true
    },
    "kernelspec": {
      "name": "python3",
      "display_name": "Python 3"
    },
    "language_info": {
      "name": "python"
    }
  },
  "cells": [
    {
      "cell_type": "markdown",
      "metadata": {
        "id": "view-in-github",
        "colab_type": "text"
      },
      "source": [
        "<a href=\"https://colab.research.google.com/github/Victor-huang1123/ADC/blob/main/hw.ipynb\" target=\"_parent\"><img src=\"https://colab.research.google.com/assets/colab-badge.svg\" alt=\"Open In Colab\"/></a>"
      ]
    },
    {
      "cell_type": "code",
      "execution_count": 12,
      "metadata": {
        "colab": {
          "base_uri": "https://localhost:8080/"
        },
        "id": "3Jhnv01kUN2j",
        "outputId": "be6a723b-857c-43a6-c96f-0cef09a8eb9a"
      },
      "outputs": [
        {
          "output_type": "stream",
          "name": "stdout",
          "text": [
            "[0 0 0 ... 0 0 0]\n"
          ]
        }
      ],
      "source": [
        "import numpy as np\n",
        "import pandas as pd\n",
        "from sklearn.model_selection import train_test_split\n",
        "from sklearn.preprocessing import LabelEncoder, StandardScaler\n",
        "from sklearn.naive_bayes import GaussianNB\n",
        "from sklearn.svm import SVC\n",
        "from sklearn.tree import DecisionTreeClassifier\n",
        "from sklearn.ensemble import RandomForestClassifier\n",
        "import tensorflow as tf\n",
        "from tensorflow.keras.models import Sequential\n",
        "from tensorflow.keras.layers import Dense\n",
        "\n",
        "# 載入資料集\n",
        "data = pd.read_csv('/content/hypothyroid_modified_cjlin.arff', comment='@', skiprows=29, header=None)\n",
        "data = data.apply(lambda x: x.replace(\"'\", \"\"))\n",
        "\n",
        "# 提取特徵和目標變數\n",
        "# 提取特徵和目標變數\n",
        "X = data.iloc[:, :-1].values\n",
        "y = data.iloc[:, -1].values\n",
        "# LabelEncoder 將目標變數轉換為數值型\n",
        "class_mapping = {'negative': 0, 'compensated_hypothyroid': 1, 'primary_hypothyroid': 2, 'secondary_hypothyroid': 3}\n",
        "y = np.array([class_mapping[label] for label in y])\n",
        "\n",
        "# 編碼類別型特徵\n",
        "categorical_features = [1, 2, 3, 4, 5, 6, 7, 8, 9, 10, 11, 12, 13, 14, 15, 16, 17, 18, 19, 20, 21]\n",
        "label_encoders = []\n",
        "X_encoded_categorical = []\n",
        "\n",
        "for feature in categorical_features:\n",
        "    label_encoder = LabelEncoder()\n",
        "    X_encoded = label_encoder.fit_transform(X[:, feature])\n",
        "    X_encoded_categorical.append(X_encoded)\n",
        "    label_encoders.append(label_encoder)\n",
        "\n",
        "X_encoded_categorical = np.array(X_encoded_categorical).T\n",
        "\n"
      ]
    },
    {
      "cell_type": "code",
      "source": [
        "# 將數值型特徵進行標準化\n",
        "numeric_features = [0,17, 18, 19, 20]\n",
        "X_numeric = X[:, numeric_features].astype(float)\n",
        "scaler = StandardScaler()\n",
        "X_numeric = scaler.fit_transform(X_numeric)\n",
        "\n",
        "\n",
        "# 合併編碼後的類別型特徵和標準化後的數值型特徵\n",
        "X_encoded = np.concatenate((X_encoded_categorical, X_numeric), axis=1)\n",
        "\n",
        "# 將資料分成訓練集和測試集\n",
        "X_train, X_test, y_train, y_test = train_test_split(X_encoded, y, test_size=0.2, random_state=42)"
      ],
      "metadata": {
        "id": "Jjouc6SillJF"
      },
      "execution_count": 16,
      "outputs": []
    },
    {
      "cell_type": "code",
      "source": [
        "nb_classifier = GaussianNB()\n",
        "svm_classifier = SVC()\n",
        "dt_classifier = DecisionTreeClassifier()\n",
        "rf_classifier = RandomForestClassifier()"
      ],
      "metadata": {
        "id": "SxdaY5nnnaE-"
      },
      "execution_count": 17,
      "outputs": []
    },
    {
      "cell_type": "code",
      "source": [
        "classifiers = [nb_classifier, svm_classifier, dt_classifier, rf_classifier]\n",
        "for classifier in classifiers:\n",
        "    classifier.fit(X_train, y_train)\n",
        "    accuracy = classifier.score(X_test, y_test)\n",
        "    print(f\"{classifier.__class__.__name__} accuracy: {accuracy}\")"
      ],
      "metadata": {
        "colab": {
          "base_uri": "https://localhost:8080/"
        },
        "id": "VhdjJTOrn78d",
        "outputId": "e5c1d2a2-30a7-4365-999a-2e21324a84cf"
      },
      "execution_count": 18,
      "outputs": [
        {
          "output_type": "stream",
          "name": "stdout",
          "text": [
            "GaussianNB accuracy: 0.375\n",
            "SVC accuracy: 0.9735294117647059\n",
            "DecisionTreeClassifier accuracy: 0.9970588235294118\n",
            "RandomForestClassifier accuracy: 0.9941176470588236\n"
          ]
        }
      ]
    },
    {
      "cell_type": "code",
      "source": [
        "# 使用Naive Bayes分類器\n",
        "nb_classifier = GaussianNB()\n",
        "\n",
        "nb_classifier.fit(X_train, y_train)\n",
        "nb_predictions = nb_classifier.predict(X_test)\n",
        "nb_accuracy = accuracy_score(y_test, nb_predictions)\n",
        "print(\"Naive Bayes 分類器準確率：\", nb_accuracy)\n",
        "\n",
        "# 使用SVM分類器\n",
        "svm_classifier = SVC()\n",
        "svm_classifier.fit(X_train, y_train)\n",
        "svm_predictions = svm_classifier.predict(X_test)\n",
        "svm_accuracy = accuracy_score(y_test, svm_predictions)\n",
        "print(\"SVM 分類器準確率：\", svm_accuracy)\n",
        "\n",
        "# 使用Decision Tree分類器\n",
        "dt_classifier = DecisionTreeClassifier()\n",
        "dt_classifier.fit(X_train, y_train)\n",
        "dt_predictions = dt_classifier.predict(X_test)\n",
        "dt_accuracy = accuracy_score(y_test, dt_predictions)\n",
        "print(\"Decision Tree 分類器準確率：\", dt_accuracy)\n",
        "\n",
        "# 使用Random Forest分類器\n",
        "rf_classifier = RandomForestClassifier()\n",
        "rf_classifier.fit(X_train, y_train)\n",
        "rf_predictions = rf_classifier.predict(X_test)\n",
        "rf_accuracy = accuracy_score(y_test, rf_predictions)\n",
        "print(\"Random Forest 分類器準確率：\", rf_accuracy)\n"
      ],
      "metadata": {
        "colab": {
          "base_uri": "https://localhost:8080/",
          "height": 236
        },
        "id": "aNMQf6J8VRL6",
        "outputId": "8f5e08ae-23c9-468a-8025-17ccca56309c"
      },
      "execution_count": 19,
      "outputs": [
        {
          "output_type": "error",
          "ename": "NameError",
          "evalue": "ignored",
          "traceback": [
            "\u001b[0;31m---------------------------------------------------------------------------\u001b[0m",
            "\u001b[0;31mNameError\u001b[0m                                 Traceback (most recent call last)",
            "\u001b[0;32m<ipython-input-19-1d2ca8818c8d>\u001b[0m in \u001b[0;36m<cell line: 6>\u001b[0;34m()\u001b[0m\n\u001b[1;32m      4\u001b[0m \u001b[0mnb_classifier\u001b[0m\u001b[0;34m.\u001b[0m\u001b[0mfit\u001b[0m\u001b[0;34m(\u001b[0m\u001b[0mX_train\u001b[0m\u001b[0;34m,\u001b[0m \u001b[0my_train\u001b[0m\u001b[0;34m)\u001b[0m\u001b[0;34m\u001b[0m\u001b[0;34m\u001b[0m\u001b[0m\n\u001b[1;32m      5\u001b[0m \u001b[0mnb_predictions\u001b[0m \u001b[0;34m=\u001b[0m \u001b[0mnb_classifier\u001b[0m\u001b[0;34m.\u001b[0m\u001b[0mpredict\u001b[0m\u001b[0;34m(\u001b[0m\u001b[0mX_test\u001b[0m\u001b[0;34m)\u001b[0m\u001b[0;34m\u001b[0m\u001b[0;34m\u001b[0m\u001b[0m\n\u001b[0;32m----> 6\u001b[0;31m \u001b[0mnb_accuracy\u001b[0m \u001b[0;34m=\u001b[0m \u001b[0maccuracy_score\u001b[0m\u001b[0;34m(\u001b[0m\u001b[0my_test\u001b[0m\u001b[0;34m,\u001b[0m \u001b[0mnb_predictions\u001b[0m\u001b[0;34m)\u001b[0m\u001b[0;34m\u001b[0m\u001b[0;34m\u001b[0m\u001b[0m\n\u001b[0m\u001b[1;32m      7\u001b[0m \u001b[0mprint\u001b[0m\u001b[0;34m(\u001b[0m\u001b[0;34m\"Naive Bayes 分類器準確率：\"\u001b[0m\u001b[0;34m,\u001b[0m \u001b[0mnb_accuracy\u001b[0m\u001b[0;34m)\u001b[0m\u001b[0;34m\u001b[0m\u001b[0;34m\u001b[0m\u001b[0m\n\u001b[1;32m      8\u001b[0m \u001b[0;34m\u001b[0m\u001b[0m\n",
            "\u001b[0;31mNameError\u001b[0m: name 'accuracy_score' is not defined"
          ]
        }
      ]
    }
  ]
}